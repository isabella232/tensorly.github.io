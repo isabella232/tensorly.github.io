{
  "cells": [
    {
      "cell_type": "code",
      "execution_count": null,
      "metadata": {
        "collapsed": false
      },
      "outputs": [],
      "source": [
        "%matplotlib inline"
      ]
    },
    {
      "cell_type": "markdown",
      "metadata": {},
      "source": [
        "\nUsing line search with PARAFAC\n==========================================\n\nExample on how to use :func:`tensorly.decomposition.parafac` with line search to accelerate convergence.\n\n"
      ]
    },
    {
      "cell_type": "code",
      "execution_count": null,
      "metadata": {
        "collapsed": false
      },
      "outputs": [],
      "source": [
        "from time import time\nimport numpy as np\nimport tensorly as tl\nfrom tensorly.random import random_kruskal\nfrom tensorly.decomposition import parafac\nimport matplotlib.pyplot as plt\n\ntol = np.logspace(-1, -9)\nerr = np.empty_like(tol)\nerr_ls = np.empty_like(tol)\ntt = np.empty_like(tol)\ntt_ls = np.empty_like(tol)\ntensor = random_kruskal((10, 10, 10), 3, random_state=1234, full=True)\n\n# Get a high-accuracy decomposition for comparison\nfac = parafac(tensor, rank=3, n_iter_max=2000000, tol=1.0e-15, linesearch=True)\nerr_min = tl.norm(tl.kruskal_to_tensor(fac) - tensor)\n\nfor ii, toll in enumerate(tol):\n\t# Run PARAFAC decomposition without line search and time\n    start = time()\n    fac = parafac(tensor, rank=3, n_iter_max=2000000, tol=toll)\n    tt[ii] = time() - start\n    # Run PARAFAC decomposition with line search and time\n    start = time()\n    fac_ls = parafac(tensor, rank=3, n_iter_max=2000000, tol=toll, linesearch=True)\n    tt_ls[ii] = time() - start\n\n    # Calculate the error of both decompositions\n    err[ii] = tl.norm(tl.kruskal_to_tensor(fac) - tensor)\n    err_ls[ii] = tl.norm(tl.kruskal_to_tensor(fac_ls) - tensor)\n\nplt.loglog(tt, err - err_min, '.', label=\"No line search\")\nplt.loglog(tt_ls, err_ls - err_min, '.r', label=\"Line search\")\nplt.ylabel(\"Time\")\nplt.xlabel(\"Error\")\nplt.legend()\nplt.show()"
      ]
    }
  ],
  "metadata": {
    "kernelspec": {
      "display_name": "Python 3",
      "language": "python",
      "name": "python3"
    },
    "language_info": {
      "codemirror_mode": {
        "name": "ipython",
        "version": 3
      },
      "file_extension": ".py",
      "mimetype": "text/x-python",
      "name": "python",
      "nbconvert_exporter": "python",
      "pygments_lexer": "ipython3",
      "version": "3.7.9"
    }
  },
  "nbformat": 4,
  "nbformat_minor": 0
}